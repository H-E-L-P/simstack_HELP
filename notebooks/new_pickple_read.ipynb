{
 "cells": [
  {
   "cell_type": "code",
   "execution_count": 1,
   "metadata": {
    "collapsed": false
   },
   "outputs": [],
   "source": [
    "import pdb\n",
    "import numpy as np\n",
    "import pandas as pd\n",
    "import os\n",
    "import pylab as plt\n",
    "from utils import clean_args\n",
    "from utils import clean_nans\n",
    "from utils import fast_sed\n",
    "from utils import fast_sed_fitter\n",
    "from utils import fast_Lir\n",
    "from utils import stagger_x\n",
    "from utils import subset_averages_from_ids\n",
    "from utils import main_sequence_s15\n",
    "from bincatalogs import Field_catalogs\n",
    "from astropy.cosmology import Planck15 as cosmo\n",
    "import astropy.units as u\n",
    "try:\n",
    "    from simstack import PickledStacksReader, measure_cib\n",
    "except:\n",
    "    from simstack.simstack import PickledStacksReader, measure_cib\n",
    "\n",
    "%matplotlib inline  "
   ]
  },
  {
   "cell_type": "code",
   "execution_count": 2,
   "metadata": {
    "collapsed": true
   },
   "outputs": [],
   "source": [
    "path_pickles = os.environ['PICKLESPATH']\n",
    "path_maps    = os.environ['MAPSPATH']\n",
    "path_catalogs= os.environ['CATSPATH']"
   ]
  },
  {
   "cell_type": "code",
   "execution_count": 3,
   "metadata": {
    "collapsed": false
   },
   "outputs": [],
   "source": [
    "#Location of the stacked parameter file\n",
    "shortnmae = 'test'\n",
    "path_config = path_pickles + '/output/simstack_fluxes/test/'\n",
    "#file_config = 'uvista__DR2__2pop__7_maps_s15_binning.cfg'\n",
    "#shortname = 'uVista_Laigle_v1.1__2pop__7bands__s15_bins_in_slices'\n",
    "shortname = 'IRAC_test_all_z'\n",
    "file_config = 'example.cfg'"
   ]
  },
  {
   "cell_type": "code",
   "execution_count": 4,
   "metadata": {
    "collapsed": false
   },
   "outputs": [
    {
     "name": "stdout",
     "output_type": "stream",
     "text": [
      "sf\n",
      "creating simstack array w/ size 3bands; 2redshifts; 1masses; 1populations\n",
      "(3, 2, 1, 1)\n",
      "(3, 2, 1, 1)\n",
      "simstack_flux_densities_test_all_z.p\n",
      "yes\n",
      "[[[[ 0.00991998]]\n",
      "\n",
      "  [[ 0.        ]]]\n",
      "\n",
      "\n",
      " [[[ 0.00698265]]\n",
      "\n",
      "  [[ 0.        ]]]\n",
      "\n",
      "\n",
      " [[[ 0.00373208]]\n",
      "\n",
      "  [[ 0.        ]]]]\n",
      "simstack_flux_densities_test_all_z.p\n",
      "yes\n",
      "[[[[ 0.00991998]]\n",
      "\n",
      "  [[ 0.00895403]]]\n",
      "\n",
      "\n",
      " [[[ 0.00698265]]\n",
      "\n",
      "  [[ 0.00583892]]]\n",
      "\n",
      "\n",
      " [[[ 0.00373208]]\n",
      "\n",
      "  [[ 0.00269869]]]]\n"
     ]
    }
   ],
   "source": [
    "stacked_flux_densities = PickledStacksReader(path_config,file_config)"
   ]
  },
  {
   "cell_type": "code",
   "execution_count": null,
   "metadata": {
    "collapsed": true
   },
   "outputs": [],
   "source": [
    "print np.shape(boot_errs.bootstrap_flux_array)\n",
    "print np.shape(boot_errs.boot_error_bars)"
   ]
  }
 ],
 "metadata": {
  "kernelspec": {
   "display_name": "Python 2",
   "language": "python",
   "name": "python2"
  },
  "language_info": {
   "codemirror_mode": {
    "name": "ipython",
    "version": 2
   },
   "file_extension": ".py",
   "mimetype": "text/x-python",
   "name": "python",
   "nbconvert_exporter": "python",
   "pygments_lexer": "ipython2",
   "version": "2.7.11"
  }
 },
 "nbformat": 4,
 "nbformat_minor": 0
}
